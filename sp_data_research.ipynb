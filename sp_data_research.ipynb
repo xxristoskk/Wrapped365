{
 "cells": [
  {
   "cell_type": "markdown",
   "id": "b812b5a5",
   "metadata": {},
   "source": [
    "# Researching User Spotify Data\n",
    "The purpose of this notebook is to explore the data and create the algorithms that will be used in the django views.\n",
    "\n",
    "### To-Do\n",
    "- ~Along with the top tracks, a user's saved/liked tracks should be analyzed.~\n",
    "\n",
    "- ~Liked tracks should be considered in the algo.~ When a top track matches with a saved track, it should carry more weight--create a metric for this -- idk how, just think about it in the future.\n",
    "    - 1+ for each time an a track/artist appears, divided by 100\n",
    "        - Also consider how many times a track shows up in their playlists; it should influence the weight metric. Consider this for artists as well to add more weight to the genres.\n",
    "        - Also consider their followed artists and playlists.\n",
    "\n",
    "- ~Modify the amount of top tracks. There needs to be a while loop that increases the offset by 50 (limit)--offset += limit. there needs to be a condition at the end of the loop that checks if 'next' is in the resopnse key. If the key is None, then that means there are no more artists/tracks, and the loop should break.~"
   ]
  },
  {
   "cell_type": "code",
   "execution_count": 1,
   "id": "251eb898",
   "metadata": {},
   "outputs": [],
   "source": [
    "import spotipy\n",
    "from spotipy.oauth2 import SpotifyOAuth\n",
    "import pandas as pd\n",
    "import plotly.express as px\n",
    "from time import sleep\n",
    "import json"
   ]
  },
  {
   "cell_type": "code",
   "execution_count": null,
   "id": "fa0ed48a",
   "metadata": {},
   "outputs": [],
   "source": [
    "with open('config.json', 'r') as f:\n",
    "    config = json.load(f)"
   ]
  },
  {
   "cell_type": "code",
   "execution_count": 2,
   "id": "2362051c",
   "metadata": {},
   "outputs": [],
   "source": [
    "sp = spotipy.Spotify(auth_manager=SpotifyOAuth(client_id=config['OAuth']['client_id'],\n",
    "                                               client_secret=['OAuth']['client_secret'],\n",
    "                                               redirect_uri='http://localhost/',\n",
    "                                               scope='user-library-read user-read-playback-state user-read-currently-playing user-top-read'))"
   ]
  },
  {
   "cell_type": "markdown",
   "id": "76d2f389",
   "metadata": {},
   "source": [
    "# Spotify Functions"
   ]
  },
  {
   "cell_type": "code",
   "execution_count": 3,
   "id": "25d9f32f",
   "metadata": {},
   "outputs": [],
   "source": [
    "# find the user's top artists and return a dictionary that contains a custom artist dictionary and the raw response from the api.\n",
    "def user_top_artists(sp_token: str, time_range: str):\n",
    "    artists = []\n",
    "    response = sp_token.current_user_top_artists(time_range=time_range, limit=50)\n",
    "    \n",
    "    for item in response['items']:\n",
    "        artist = {\n",
    "            'artist_name': item['name'],\n",
    "            'artist_id': item['id'],\n",
    "            'generes': item['genres'],\n",
    "            'popularity': item['popularity']\n",
    "            \n",
    "        }\n",
    "        artists.append({\n",
    "            'artist': artist,\n",
    "            'response': item\n",
    "        })\n",
    "    return artists"
   ]
  },
  {
   "cell_type": "code",
   "execution_count": 6,
   "id": "660b3a6d",
   "metadata": {},
   "outputs": [],
   "source": [
    "# get the top tracks from a user\n",
    "def user_top_tracks(sp_token: str, time_range: str):\n",
    "    tracks = []\n",
    "    response = sp_token.current_user_top_tracks(time_range=time_range, limit=50)\n",
    "    \n",
    "    for item in response['items']:\n",
    "        track = {\n",
    "            'track_name': item['name'],\n",
    "            'track_id': item['id'],\n",
    "            'artist_names': [x['name'] for x in item['artists']],\n",
    "#             item['artists'][0]['name'],\n",
    "            'artist_ids': [x['id'] for x in item['artists']],\n",
    "#             item['artists'][0]['id'],\n",
    "            'duration_ms': item['duration_ms'],\n",
    "            'explicit': item['explicit'],\n",
    "            'popularity': item['popularity']\n",
    "        }\n",
    "        tracks.append({\n",
    "            'track': track,\n",
    "            'response': item\n",
    "        })\n",
    "        \n",
    "    return tracks"
   ]
  },
  {
   "cell_type": "code",
   "execution_count": 7,
   "id": "c7808f4c",
   "metadata": {},
   "outputs": [],
   "source": [
    "# get a user's saved tracks -- limited to 550 tracks\n",
    "def get_saved_tracks(sp_token: str):\n",
    "    offset = 0\n",
    "    limit = 50\n",
    "    response = sp_token.current_user_saved_tracks(limit=limit, offset=offset)\n",
    "    tracks = response['items']\n",
    "\n",
    "    for i in range(0, 10):\n",
    "        sleep(1)\n",
    "        offset += limit\n",
    "        \n",
    "        if response['next'] != None or i < 10:\n",
    "            response = sp_token.current_user_saved_tracks(limit=limit, offset=offset)\n",
    "            tracks.extend(response['items'])\n",
    "            i += 1\n",
    "        else:\n",
    "            return tracks\n",
    "        \n",
    "    return tracks"
   ]
  },
  {
   "cell_type": "code",
   "execution_count": null,
   "id": "6fe1edf4",
   "metadata": {},
   "outputs": [],
   "source": [
    "# get the genres from a list of tracks\n",
    "# its ok for duplicate genres because we want those duplicates to hold more weight when analyzing them\n",
    "\n",
    "# there needs to be a way to handle artists that don't have genres listed\n",
    "\n",
    "def get_genres_from_tracks(sp_token: str, tracks: list):\n",
    "    \n",
    "#     response_list = [item['response'] for item in tracks]\n",
    "    response_list = tracks\n",
    "    genres_complete = list()\n",
    "    artists_genres = list()\n",
    "    artist_ids = list()\n",
    "\n",
    "    for track in [x['track'] for x in response_list]:\n",
    "        for artist in track['artists']:\n",
    "            artist_ids.append(artist['id'])\n",
    "\n",
    "    try:\n",
    "        for i in range(0, len(set(artist_ids)), 50):\n",
    "            batch_artists = artist_ids[i:i+50]\n",
    "#             batch_artists = set(batch_artists)\n",
    "            sleep(1)\n",
    "            artists = sp_token.artists(batch_artists)\n",
    "            for artist in artists['artists']:\n",
    "                genres.append((artist['id'], artist['genres']))\n",
    "#                 print(f'{artist[\"name\"]}: {artist[\"genres\"]}')\n",
    "                genres_complete.extend(artist['genres'])\n",
    "            print(i)\n",
    "\n",
    "    except Exception as e:\n",
    "        print(f'ERROR FETCHING GENRES {e}') \n",
    "\n",
    "    return (genres, genres_complete)"
   ]
  },
  {
   "cell_type": "code",
   "execution_count": 24,
   "id": "3ac287d6",
   "metadata": {},
   "outputs": [],
   "source": [
    "# count the number of times an artist or track occurs across the time-ranges. it returns a dictionary of the track or artist name and the counts.\n",
    "def count_items(items: list, item_type: str):\n",
    "    counts = {}\n",
    "    for item in items:\n",
    "        key = [item[item_type] item]\n",
    "        counts[key] = counts.get(key, 0) + 1\n",
    "    return counts"
   ]
  },
  {
   "cell_type": "markdown",
   "id": "b4f0c442",
   "metadata": {},
   "source": [
    "## Define artists lists"
   ]
  },
  {
   "cell_type": "code",
   "execution_count": 11,
   "id": "933c2d8b",
   "metadata": {},
   "outputs": [],
   "source": [
    "# define top artists lists\n",
    "\n",
    "long_term_artists = user_top_artists(sp, 'long_term')\n",
    "medium_term_artists = user_top_artists(sp, 'medium_term')\n",
    "short_term_artists = user_top_artists(sp, 'short_term')\n",
    "\n",
    "all_top_artists = [x['artist'] for x in long_term_artists] + [x['artist'] for x in medium_term_artists] + [x['artist'] for x in short_term_artists]\n",
    "\n",
    "long_artists_df = pd.DataFrame([x['artist'] for x in long_term_artists])\n",
    "medium_artists_df = pd.DataFrame([x['artist'] for x in medium_term_artists])\n",
    "short_artists_df = pd.DataFrame([x['artist'] for x in short_term_artists])"
   ]
  },
  {
   "cell_type": "code",
   "execution_count": 25,
   "id": "23c73602",
   "metadata": {
    "collapsed": true
   },
   "outputs": [
    {
     "data": {
      "text/plain": [
       "{'6EjKG35nRHw9t8ypwDunOB': 2,\n",
       " '6Ghvu1VvMGScGpOUJBAHNH': 3,\n",
       " '0BqcFG3uqS8l59OsCtIiH0': 2,\n",
       " '0NwRAG9DawUqqgur9925fA': 3,\n",
       " '19I4tYiChJoxEO5EuviXpz': 2,\n",
       " '0IVapwlnM3dEOiMsHXsghT': 1,\n",
       " '7m63GptZSke3jGqCxR4rom': 2,\n",
       " '1hiIe6hmDchjc246cpoAOM': 3,\n",
       " '1aEYCT7t18aM3VvM6y8oVR': 1,\n",
       " '39kuwM2oBNmrM3kEYVmk2X': 1,\n",
       " '0AZ3VR0YbFcS0Kgei7L2QF': 3,\n",
       " '7FBcuc1gsnv6Y1nwFtNRCb': 2,\n",
       " '49O77SKrEk1b9sNjhI0kM4': 2,\n",
       " '0MkAzpDHUZpuDnWGUII4RN': 1,\n",
       " '3EgMK920cIH5aLxFnJ6zSi': 1,\n",
       " '6FBDaR13swtiWwGhX1WQsP': 2,\n",
       " '1LhK7wn59Hq6GNN4sUS3ih': 1,\n",
       " '2bgBTY9LvajPhwkPoyLGH7': 1,\n",
       " '2iT2Fmot4VzWgdOTgp3j9M': 1,\n",
       " '0Y4inQK6OespitzD6ijMwb': 1,\n",
       " '3NChzMpu9exTlNPiqUQ2DE': 1,\n",
       " '6P5ccCJCe8A4s9tDSTNFzF': 3,\n",
       " '1WZarnZpWEv7dDtjAETt4X': 1,\n",
       " '5BIOo2mCAokFcLHXO2Llb4': 1,\n",
       " '6FfjnGXMhxSsJTuGLWBDth': 3,\n",
       " '5jh7sgXW2njALiIh0aPXjB': 1,\n",
       " '0o7WWONtleH6PWLn5GIoCM': 1,\n",
       " '6AMqkTWbhukzRS5je3Q5qt': 1,\n",
       " '53RsXctnNmj9oKXvcbvzI2': 2,\n",
       " '0hktkVFcCRG9z2NTXE6jhl': 1,\n",
       " '55b0Gfm53udtGBs8mmNXrH': 2,\n",
       " '1i5rlthy5CmAYWaFOB0jhz': 1,\n",
       " '1utT39CwCZruFdvmbvDusl': 1,\n",
       " '15VmPRQCJEZWaZWgHEroj0': 1,\n",
       " '4lYqhtjf8WpvRYBeTHKeJH': 2,\n",
       " '7kHzfxMLtVHHb523s43rY1': 2,\n",
       " '1NV2n4DkUNfCCuaaxsWJnl': 1,\n",
       " '4kRYDoAbgDL7nqeqZhJlA3': 1,\n",
       " '3N4eFtnZCCXfMs0hBQwujT': 1,\n",
       " '0Pb1JB8ps5wlHniYSgRnum': 1,\n",
       " '6BuDxEE5rfuYeyhxQsl53K': 1,\n",
       " '06xa1OLBsMQJFXcl2tQkH4': 1,\n",
       " '0HjoyITAvSVktTCjXUa40Q': 1,\n",
       " '02uPe16VFxPaiueQsPEDkE': 1,\n",
       " '2Q0rAyTIfdTUwDt8jpEpv0': 2,\n",
       " '4HwlolvniI44ETSg5tajeZ': 1,\n",
       " '5ZPr0RHsR3DrAhtsYMsfHR': 1,\n",
       " '4qrHkx5cgWIslciLXUMrYw': 2,\n",
       " '16HYItTmZdhXM4Yz0CPtVy': 1,\n",
       " '528t5c0zyuG9beehtth4Za': 2,\n",
       " '7HcU7yCOfyw3hqrj1ZSORc': 1,\n",
       " '5uXwUOBL0vFCW9LzmlSMo7': 1,\n",
       " '5fykvz752c33lwg0PrTmUs': 1,\n",
       " '0elGqj9ZYI6qWLBLD4GQO5': 1,\n",
       " '2oQX8QiMXOyuqbcZEFsZfm': 1,\n",
       " '5YlX74SFjWauq32aKLwAYn': 1,\n",
       " '2d0hyoQ5ynDBnkvAbJKORj': 2,\n",
       " '5gEKGtEg2amYue0osljRCj': 1,\n",
       " '6JFq73KFN61FnDkmXQWn79': 2,\n",
       " '5sd2fxErtIZ9P48K4hyy5Q': 1,\n",
       " '3TEsU8VzLEGC52THfNvh9B': 1,\n",
       " '2bJhXmBzIW5xTAL2LGc6iw': 1,\n",
       " '3KjkcT0s7a7JDlzsXffnDo': 2,\n",
       " '2Ve2KkhqSCrEgFhbaHOwcy': 1,\n",
       " '6ueZc2xAm12Ib0e90Bx7P0': 1,\n",
       " '0fNyhBvhR5Xw6s0EYQewUa': 1,\n",
       " '19slOlozrbxkEIMD8L3Qsv': 1,\n",
       " '2WZCpsGLdNU1xENRwETylI': 2,\n",
       " '3C6eumg4cJXUlf5K83LPnA': 1,\n",
       " '6vWDO969PvNqNYHIOW5v0m': 1,\n",
       " '1Uwe1MbiKnPHAFh3qMWuNp': 1,\n",
       " '4G9wSdX0klmoHfjm9i6DLd': 2,\n",
       " '6fxyWrfmjcbj5d12gXeiNV': 1,\n",
       " '3nFkdlSjzX9mRTtwJOzDYB': 1,\n",
       " '4igS2MSwOIf3F9YeL929IO': 1,\n",
       " '4yRSUmhuSJ3KcIMljdh4fH': 1,\n",
       " '5PIuMlRY9PSLUSFzs6lQu1': 1,\n",
       " '7mDU6nMUJnOSY2Hkjz5oqM': 1,\n",
       " '2nNyMDW51EHYbBXu3lFbLR': 1,\n",
       " '0zCSlcpjKjhnq8jpFO78A9': 1,\n",
       " '2vsXeWGC8rILp3rpSN2Fyk': 1,\n",
       " '25WCO5tS4sXMxIfe3nIXL4': 1,\n",
       " '6xS3zemJD9h94iueQvGqVk': 1,\n",
       " '2qz0WpmwqdvK7jFl723AE7': 1,\n",
       " '4jToJwWL1QJ6Tgs43MRuGn': 1,\n",
       " '1GzTHDdcXKLdKUXpild6sa': 1,\n",
       " '393Q8JdQXQXqnIW8hhRkiT': 1,\n",
       " '4tpDw1W5WG1Tf7puULUur5': 1,\n",
       " '4m7q9onIm2bqhwHy9utqmw': 1}"
      ]
     },
     "execution_count": 25,
     "metadata": {},
     "output_type": "execute_result"
    }
   ],
   "source": [
    "# count of all artists across time-ranges\n",
    "all_artists_counts = count_items(all_top_artists)\n",
    "\n",
    "all_artists_counts"
   ]
  },
  {
   "cell_type": "markdown",
   "id": "4e69f8a9",
   "metadata": {},
   "source": [
    "## Define tracks lists"
   ]
  },
  {
   "cell_type": "code",
   "execution_count": 20,
   "id": "1239177d",
   "metadata": {},
   "outputs": [],
   "source": [
    "# define top tracks lists\n",
    "\n",
    "long_term_tracks = user_top_tracks(sp, 'long_term')\n",
    "medium_term_tracks = user_top_tracks(sp, 'medium_term')\n",
    "short_term_tracks = user_top_tracks(sp, 'short_term')\n",
    "\n",
    "all_top_tracks = [item['track'] for item in long_term_tracks] + [item['track'] for item in medium_term_tracks] + [item['track'] for item in short_term_tracks]"
   ]
  },
  {
   "cell_type": "code",
   "execution_count": 23,
   "id": "b7b1bd94",
   "metadata": {
    "collapsed": true
   },
   "outputs": [
    {
     "data": {
      "text/plain": [
       "{'ANGEL TEARS': 3,\n",
       " 'One Day': 1,\n",
       " 'Compromised': 1,\n",
       " 'On a Mission': 1,\n",
       " 'The Importance of Stealth': 1,\n",
       " 'hello?': 2,\n",
       " 'Palisade': 1,\n",
       " 'Hell Yeahhhh': 1,\n",
       " 'Half Wrong': 2,\n",
       " 'butterfly-s': 2,\n",
       " '3rd Measurement in C': 1,\n",
       " 'F R A G M E N T': 2,\n",
       " 'Monuments to a Poison Logic': 1,\n",
       " 'luminescence': 2,\n",
       " 'Dead to Me': 1,\n",
       " 'Dispirit': 1,\n",
       " 'Only Seeing God When I Come': 1,\n",
       " 'Emotionally Unavailable': 2,\n",
       " 'A Piece Of My Mind': 2,\n",
       " 'Trouble Breathing': 1,\n",
       " 'Code Red': 1,\n",
       " 'Spien': 2,\n",
       " 'midnight city': 2,\n",
       " 'For the Living': 1,\n",
       " 'Rubberband': 1,\n",
       " 'Human Nature': 1,\n",
       " \"Lucy's Revenge\": 2,\n",
       " 'Pressure Me': 2,\n",
       " 'Disposable': 1,\n",
       " 'FUCK A PROUD BOY': 2,\n",
       " 'Genesis Explorer': 2,\n",
       " 'Helena': 1,\n",
       " 'Baldpate Driver': 1,\n",
       " 'Thank You for the Venom': 1,\n",
       " 'iris': 2,\n",
       " 'APATHY': 3,\n",
       " 'Crawl Space': 3,\n",
       " 'Prepare the Ground': 1,\n",
       " 'Magnetic Point': 2,\n",
       " 'Better Days': 1,\n",
       " 'Pandaemonium': 1,\n",
       " 'Crush': 1,\n",
       " 'Cherish': 2,\n",
       " 'Abaddon': 1,\n",
       " 'anaesthesia': 2,\n",
       " 'Roll Critical': 2,\n",
       " 'Hopeless romantic': 2,\n",
       " 'Kiss the Ladder': 1,\n",
       " 'The Screen': 2,\n",
       " 'Curious Thing': 1,\n",
       " 'Into the Curve': 1,\n",
       " 'The Gate': 1,\n",
       " 'Body Void': 1,\n",
       " 'On the Rake': 1,\n",
       " 'DATA: COMMUNICATIONS': 1,\n",
       " 'Wild Thing': 1,\n",
       " 'Signal Decay': 1,\n",
       " 'skype memories': 1,\n",
       " 'Way I Do': 1,\n",
       " 'All Mother': 1,\n",
       " 'Last Exit': 1,\n",
       " 'Strange Men': 1,\n",
       " 'Loveless': 1,\n",
       " 'Hyperbreaker': 1,\n",
       " 'Gogo Yubari': 1,\n",
       " 'Fear': 1,\n",
       " 'The Chain': 1,\n",
       " 'Empty Promise': 1,\n",
       " 'Wigsplitter': 1,\n",
       " 'Love is a Lie': 1,\n",
       " 'Deeper Void': 1,\n",
       " 'Private Room': 1,\n",
       " 'The Ritual': 1,\n",
       " 'Terror': 1,\n",
       " 'Pearl Slug': 1,\n",
       " 'The Dog': 1,\n",
       " \"Play Dead... And I'll Play Along\": 1,\n",
       " 'People of the Sun': 1,\n",
       " '01100110011000010110110001101100': 1,\n",
       " 'Beso De Angel': 1,\n",
       " 'Atrophy:Angel': 2,\n",
       " 'Mlàdek': 1,\n",
       " 'Isso': 1,\n",
       " 'Player Three': 1,\n",
       " 'O.A.S.D': 1,\n",
       " 'No Es Amor': 1,\n",
       " \"She's Strychnine\": 1,\n",
       " 'Feiticeira': 1,\n",
       " 'Lecturing Raskolnikov (Or How to Properly Stab an Old Widow)': 1,\n",
       " 'tripping > wires': 1,\n",
       " 'Pushe Packs': 1,\n",
       " 'Nil :: Solaris': 1,\n",
       " 'Ablaze': 1,\n",
       " 'Endongo': 1,\n",
       " 'Cleansed by Silence': 1,\n",
       " 'blissful': 1,\n",
       " '(un)equivalent_exchange': 1,\n",
       " \"Shut up, I'm Trying to Worry\": 1,\n",
       " \"You're Not Carving Deep Enough\": 1,\n",
       " 'gh0st.shell': 1,\n",
       " 'Schiphol': 1,\n",
       " 'Idontknow': 1,\n",
       " 'D.I.T.B.': 1,\n",
       " 'Signature': 1,\n",
       " 'Hole - Remix': 1,\n",
       " 'Atackla': 1,\n",
       " 'Sueño': 1,\n",
       " 'Deathblow': 1,\n",
       " 'Minerva': 1,\n",
       " 'Digital Bath': 1,\n",
       " 'Rx Queen': 1,\n",
       " 'Theme': 1,\n",
       " 'Paper Right': 1,\n",
       " 'Reciprocation': 1,\n",
       " 'Sad Slut': 1,\n",
       " 'Batu': 1,\n",
       " 'Hot For Preacher': 1,\n",
       " 'You': 1,\n",
       " 'lettinggomakestheheartburnhotter': 1,\n",
       " 'bl33d_0ut (.eve mix)': 1,\n",
       " 'SOTRS': 1,\n",
       " '1st Of July': 1,\n",
       " 'The Taste, the Touch': 1}"
      ]
     },
     "execution_count": 23,
     "metadata": {},
     "output_type": "execute_result"
    }
   ],
   "source": [
    "# counts of all tracks across time-ranges\n",
    "all_tracks_counts = count_items(all_top_tracks)\n",
    "all_tracks_counts"
   ]
  },
  {
   "cell_type": "code",
   "execution_count": 33,
   "id": "e87a7dea",
   "metadata": {},
   "outputs": [
    {
     "data": {
      "text/plain": [
       "'Ftlframe'"
      ]
     },
     "execution_count": 33,
     "metadata": {},
     "output_type": "execute_result"
    }
   ],
   "source": [
    "pd.DataFrame(all_top_tracks)['artist_names'][0][0]"
   ]
  },
  {
   "cell_type": "markdown",
   "id": "6f441cd8",
   "metadata": {},
   "source": [
    "## Saved tracks"
   ]
  },
  {
   "cell_type": "code",
   "execution_count": null,
   "id": "afe1a3f0",
   "metadata": {},
   "outputs": [],
   "source": [
    "# define the saved track genre list\n",
    "\n",
    "saved_tracks = get_saved_tracks(sp)"
   ]
  },
  {
   "cell_type": "code",
   "execution_count": null,
   "id": "c93222b6",
   "metadata": {},
   "outputs": [],
   "source": [
    "saved_tracks[0].keys()"
   ]
  },
  {
   "cell_type": "code",
   "execution_count": null,
   "id": "3afd1f22",
   "metadata": {},
   "outputs": [],
   "source": [
    "for track in saved_tracks:\n",
    "    print(track['track']['name'])\n",
    "    break"
   ]
  },
  {
   "cell_type": "code",
   "execution_count": null,
   "id": "6fb9879b",
   "metadata": {},
   "outputs": [],
   "source": [
    "saved_dicts = []\n",
    "for track in saved_tracks:\n",
    "    saved_dicts.append({\n",
    "        'track_name': track['track']['name'],\n",
    "        'track_id': track['track']['id'],\n",
    "        'track_artist': track['track']['artists'][0]['name'],\n",
    "        'artist_id': track['track']['artists'][0]['id'],\n",
    "        'duration_ms': track['track']['duration_ms'],\n",
    "        'explicit': track['track']['explicit'],\n",
    "        'popularity': track['track']['popularity'],\n",
    "        'added_at': pd.to_datetime(track['added_at']),\n",
    "    })\n",
    "    \n",
    "pd.DataFrame(saved_dicts)"
   ]
  },
  {
   "cell_type": "markdown",
   "id": "82d7fa03",
   "metadata": {},
   "source": [
    "# Genre Exploration"
   ]
  },
  {
   "cell_type": "code",
   "execution_count": null,
   "id": "369c8aa9",
   "metadata": {},
   "outputs": [],
   "source": [
    "# define the genre list from time ranges\n",
    "\n",
    "long_genres = get_genres_from_tracks(sp, long_term_tracks)\n",
    "medium_genres = get_genres_from_tracks(sp, medium_term_tracks)\n",
    "short_genres = get_genres_from_tracks(sp, short_term_tracks)"
   ]
  },
  {
   "cell_type": "code",
   "execution_count": null,
   "id": "1bd52d8f",
   "metadata": {},
   "outputs": [],
   "source": [
    "# define the top all-time genres\n",
    "long_series = pd.Series(data=long_genres)\n",
    "long_counts = long_series.value_counts()[:10]\n",
    "\n",
    "# define the top ten genres from the past 6 months\n",
    "medium_series = pd.Series(data=medium_genres)\n",
    "medium_counts = medium_series.value_counts()[:10]\n",
    "\n",
    "# define the top ten genres from the past 4 weeks\n",
    "short_series = pd.Series(data=short_genres)\n",
    "short_counts = short_series.value_counts()[:10]"
   ]
  },
  {
   "cell_type": "code",
   "execution_count": null,
   "id": "6493b1b2",
   "metadata": {
    "scrolled": true
   },
   "outputs": [],
   "source": [
    "# define the time-range dataframe for genres\n",
    "genre_count_df = pd.DataFrame({'all_time_genres': long_counts, '6month_genres': medium_counts, '4week_genres': short_counts})\n",
    "genre_count_df.fillna(0, inplace=True)\n",
    "genre_count_df = genre_count_df.astype(int, copy=True)"
   ]
  },
  {
   "cell_type": "code",
   "execution_count": null,
   "id": "83f7dc4e",
   "metadata": {},
   "outputs": [],
   "source": [
    "# define the genre list from the saved tracks\n",
    "\n",
    "saved_track_genres = get_genres_from_tracks(sp, saved_tracks)"
   ]
  },
  {
   "cell_type": "code",
   "execution_count": null,
   "id": "2b44a008",
   "metadata": {},
   "outputs": [],
   "source": [
    "# combine all the genres\n",
    "all_genres = saved_track_genres + long_genres + medium_genres + short_genres\n",
    "len(all_genres)"
   ]
  },
  {
   "cell_type": "code",
   "execution_count": null,
   "id": "8a3e5c0d",
   "metadata": {},
   "outputs": [],
   "source": [
    "# create a series and count\n",
    "all_genres_series = pd.Series(data=all_genres)\n",
    "all_genres_counts = all_genres_series.value_counts()[:25]\n",
    "all_genres_counts"
   ]
  },
  {
   "cell_type": "markdown",
   "id": "26cdf047",
   "metadata": {},
   "source": [
    "## Track Features\n",
    "Mapping out the track features of all the songs to create visualization of the average/median features for each time-frame.\n",
    "Including saved tracks.\n",
    "\n",
    "Break down the features based on the time frames and a combined features."
   ]
  },
  {
   "cell_type": "code",
   "execution_count": null,
   "id": "1f5df3ba",
   "metadata": {},
   "outputs": [],
   "source": [
    "# long_track_ids = [x['id'] for x in top_tracks['long']]\n",
    "# medium_track_ids = [x['id'] for x in top_tracks['medium']]\n",
    "# short_track_ids = [x['id'] for x in top_tracks['short']]\n",
    "\n",
    "def get_features(token, tracks):\n",
    "    key_removal = ['type', 'uri', 'track_href', 'analysis_url']\n",
    "    track_dir = list()\n",
    "    \n",
    "    for track in tracks:\n",
    "        track_dir.append({\n",
    "            'track_id': track['id'],\n",
    "            'name': track['name'],\n",
    "            'artist': track['name']\n",
    "        })\n",
    "        \n",
    "    tracks_df = pd.DataFrame(track_dir)\n",
    "    features = token.audio_features([x['track_id'] for x in track_dir])\n",
    "    features = [{key: value for key, value in d.items() if key not in key_removal} for d in features]\n",
    "    \n",
    "    audio_feature_mapping = {item['id']: item for item in features}\n",
    "    feature_cols = ['danceability', 'energy', 'key', 'loudness', 'mode', 'speechiness', 'instrumentalness','liveness',\n",
    "                   'valence', 'tempo', 'duration_ms', 'time_signature']\n",
    "    \n",
    "    for feature in feature_cols:\n",
    "        tracks_df[feature] = tracks_df['track_id'].map(lambda x: audio_feature_mapping[x][feature])\n",
    "        \n",
    "    return tracks_df"
   ]
  },
  {
   "cell_type": "code",
   "execution_count": null,
   "id": "289af44f",
   "metadata": {},
   "outputs": [],
   "source": [
    "tracks_df = get_features(sp, top_tracks['long'])\n",
    "tracks_df.head()"
   ]
  },
  {
   "cell_type": "code",
   "execution_count": null,
   "id": "f9e8e920",
   "metadata": {},
   "outputs": [],
   "source": [
    "tracks_df['danceability'].describe()"
   ]
  },
  {
   "cell_type": "code",
   "execution_count": null,
   "id": "caa77fae",
   "metadata": {},
   "outputs": [],
   "source": [
    "dance_mean = tracks_df['danceability'].mean()\n",
    "dance_std = tracks_df['danceability'].std()\n",
    "dance_zscore = (tracks_df['danceability'] - dance_mean) / dance_std\n",
    "\n",
    "print(dance_mean)\n",
    "print(dance_std)\n",
    "print(tracks_df['danceability'].min())\n",
    "print(tracks_df['danceability'].max())"
   ]
  },
  {
   "cell_type": "code",
   "execution_count": null,
   "id": "625d822f",
   "metadata": {},
   "outputs": [],
   "source": [
    "tracks_df.describe()"
   ]
  },
  {
   "cell_type": "code",
   "execution_count": null,
   "id": "2bd1eae4",
   "metadata": {},
   "outputs": [],
   "source": [
    "dist_df = tracks_df.drop(columns = ['track_id','name', 'artist']).describe()"
   ]
  },
  {
   "cell_type": "markdown",
   "id": "aa96ee19",
   "metadata": {},
   "source": [
    "## Genre Features\n",
    "- Group song features based on genre and apply a heat map. Perform various analysis to find any correlations.\n",
    "- Compare the features of the individual track compared to the genre features.\n",
    "- Create the following functions:\n",
    "    - Collect features and return a list of dictionaries for those features\n",
    "    - Input the list of features and analyze them (cluster? median?) and return list of the new values"
   ]
  },
  {
   "cell_type": "code",
   "execution_count": null,
   "id": "c27f848a",
   "metadata": {},
   "outputs": [],
   "source": []
  },
  {
   "cell_type": "markdown",
   "id": "ca36723d",
   "metadata": {},
   "source": [
    "# Plotly"
   ]
  },
  {
   "cell_type": "code",
   "execution_count": null,
   "id": "d4ab8fd8",
   "metadata": {},
   "outputs": [],
   "source": [
    "fig = px.bar(\n",
    "    df,\n",
    "    labels={\n",
    "        'index':'Genres', \n",
    "        'value':'Number of Tracks',\n",
    "        'variable':'Time Range',\n",
    "    },\n",
    "    title='Most Listened Genres',\n",
    ")\n",
    "# fig.update_layout(xaxis={'categoryorder': 'total descending'})\n",
    "fig.update_traces(name='All-time', selector={'name':'long_tracks'})\n",
    "fig.update_traces(name='Past 6 Months', selector={'name':'medium_tracks'})\n",
    "fig.update_traces(name='Past 4 Weeks', selector={'name':'short_tracks'})\n",
    "\n",
    "fig.show()"
   ]
  },
  {
   "cell_type": "markdown",
   "id": "68b462f9",
   "metadata": {},
   "source": [
    "# Create the model\n",
    "\n",
    "- Try clustering the track features and genre features.\n",
    "- Maybe make a simple neural net using weights from the custom TBD metric.\n",
    "    - Give weights to tracks, artists, and genres"
   ]
  },
  {
   "cell_type": "code",
   "execution_count": null,
   "id": "57861831",
   "metadata": {},
   "outputs": [],
   "source": []
  }
 ],
 "metadata": {
  "kernelspec": {
   "display_name": "Python 3 (ipykernel)",
   "language": "python",
   "name": "python3"
  },
  "language_info": {
   "codemirror_mode": {
    "name": "ipython",
    "version": 3
   },
   "file_extension": ".py",
   "mimetype": "text/x-python",
   "name": "python",
   "nbconvert_exporter": "python",
   "pygments_lexer": "ipython3",
   "version": "3.10.9"
  }
 },
 "nbformat": 4,
 "nbformat_minor": 5
}
