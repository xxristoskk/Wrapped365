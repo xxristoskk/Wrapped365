{
 "cells": [
  {
   "cell_type": "markdown",
   "id": "b812b5a5",
   "metadata": {},
   "source": [
    "# Researching User Spotify Data\n",
    "The purpose of this notebook is to explore the data and create the algorithms that will be used in the django views.\n",
    "\n",
    "### To-Do\n",
    "- ~Along with the top tracks, a user's saved/liked tracks should be analyzed.~\n",
    "\n",
    "- ~Liked tracks should be considered in the algo.~ When a top track matches with a saved track, it should carry more weight--create a metric for this -- idk how, just think about it in the future.\n",
    "    - 1+ for each time an a track/artist appears, divided by 100\n",
    "        - Also consider how many times a track shows up in their playlists; it should influence the weight metric. Consider this for artists as well to add more weight to the genres.\n",
    "        - Also consider their followed artists and playlists.\n",
    "\n",
    "- ~Modify the amount of top tracks. There needs to be a while loop that increases the offset by 50 (limit)--offset += limit. there needs to be a condition at the end of the loop that checks if 'next' is in the resopnse key. If the key is None, then that means there are no more artists/tracks, and the loop should break.~"
   ]
  },
  {
   "cell_type": "code",
   "execution_count": 1,
   "id": "251eb898",
   "metadata": {},
   "outputs": [],
   "source": [
    "import spotipy\n",
    "from spotipy.oauth2 import SpotifyOAuth\n",
    "import pandas as pd\n",
    "import plotly.express as px\n",
    "from time import sleep\n",
    "import json"
   ]
  },
  {
   "cell_type": "code",
   "execution_count": 2,
   "id": "3a19f1d8",
   "metadata": {},
   "outputs": [],
   "source": [
    "with open('config.json', 'r') as f:\n",
    "    config = json.load(f)"
   ]
  },
  {
   "cell_type": "code",
   "execution_count": 3,
   "id": "2362051c",
   "metadata": {
    "scrolled": true
   },
   "outputs": [],
   "source": [
    "sp = spotipy.Spotify(auth_manager=SpotifyOAuth(client_id=config['OAuth']['client_id'],\n",
    "                                               client_secret=config['OAuth']['client_secret'],\n",
    "                                               redirect_uri='http://localhost/',\n",
    "                                               scope='user-library-read user-read-playback-state user-read-currently-playing user-top-read'))"
   ]
  },
  {
   "cell_type": "markdown",
   "id": "76d2f389",
   "metadata": {},
   "source": [
    "## Spotify Functions"
   ]
  },
  {
   "cell_type": "code",
   "execution_count": 4,
   "id": "25d9f32f",
   "metadata": {},
   "outputs": [],
   "source": [
    "# find the user's top artists and return a dictionary that contains a custom artist dictionary and the raw response from the api.\n",
    "def user_top_artists(sp_token: str, time_range: str):\n",
    "    artists = []\n",
    "    response = sp_token.current_user_top_artists(time_range=time_range, limit=50)\n",
    "    \n",
    "    for item in response['items']:\n",
    "        artist = {\n",
    "            'artist_name': item['name'],\n",
    "            'artist_id': item['id'],\n",
    "            'artist_uri': item['uri'],\n",
    "            'generes': item['genres'],\n",
    "            'popularity': item['popularity']\n",
    "            \n",
    "        }\n",
    "        artists.append({\n",
    "            'artist': artist,\n",
    "            'response': item\n",
    "        })\n",
    "    return artists"
   ]
  },
  {
   "cell_type": "code",
   "execution_count": 5,
   "id": "660b3a6d",
   "metadata": {},
   "outputs": [
    {
     "ename": "SyntaxError",
     "evalue": "invalid syntax. Perhaps you forgot a comma? (3858157046.py, line 12)",
     "output_type": "error",
     "traceback": [
      "\u001b[1;36m  Cell \u001b[1;32mIn[5], line 12\u001b[1;36m\u001b[0m\n\u001b[1;33m    'artist_uris': [x['id'] for x in item['artists']]\u001b[0m\n\u001b[1;37m                   ^\u001b[0m\n\u001b[1;31mSyntaxError\u001b[0m\u001b[1;31m:\u001b[0m invalid syntax. Perhaps you forgot a comma?\n"
     ]
    }
   ],
   "source": [
    "# get the top tracks from a user\n",
    "def user_top_tracks(sp_token: str, time_range: str):\n",
    "    tracks = []\n",
    "    response = sp_token.current_user_top_tracks(time_range=time_range, limit=50)\n",
    "    \n",
    "    for item in response['items']:\n",
    "        track = {\n",
    "            'track_name': item['name'],\n",
    "            'track_id': item['id'],\n",
    "            'artist_names': [x['name'] for x in item['artists']],\n",
    "            'artist_ids': [x['id'] for x in item['artists']],\n",
    "            'artist_uris': [x['id'] for x in item['artists']]\n",
    "            'duration_ms': item['duration_ms'],\n",
    "            'explicit': item['explicit'],\n",
    "            'popularity': item['popularity']\n",
    "        }\n",
    "        tracks.append({\n",
    "            'track': track,\n",
    "            'response': item\n",
    "        })\n",
    "        \n",
    "    return tracks"
   ]
  },
  {
   "cell_type": "code",
   "execution_count": 10,
   "id": "c7808f4c",
   "metadata": {},
   "outputs": [],
   "source": [
    "# get a user's saved tracks -- limited to 550 tracks\n",
    "# the limit is due to the amount of time it takes to get the saved tracks without reaching the API rate limit\n",
    "# the rate limit could be extended if the app was in production and approved by spotify\n",
    "\n",
    "def get_saved_tracks(sp_token: str):\n",
    "    offset = 0\n",
    "    limit = 50\n",
    "    response = sp_token.current_user_saved_tracks(limit=limit, offset=offset)\n",
    "    tracks = response['items']\n",
    "\n",
    "    for i in range(0, 10):\n",
    "        sleep(1)\n",
    "        offset += limit\n",
    "        \n",
    "        if response['next'] != None or i < 10:\n",
    "            response = sp_token.current_user_saved_tracks(limit=limit, offset=offset)\n",
    "            tracks.extend(response['items'])\n",
    "            i += 1\n",
    "        else:\n",
    "            return tracks\n",
    "        \n",
    "    return tracks"
   ]
  },
  {
   "cell_type": "code",
   "execution_count": 7,
   "id": "6fe1edf4",
   "metadata": {},
   "outputs": [],
   "source": [
    "# get the genres from a list of tracks\n",
    "# its ok for duplicate genres because we want those duplicates to hold more weight when analyzing them\n",
    "\n",
    "# there needs to be a way to handle artists that don't have genres listed\n",
    "\n",
    "def get_genres_from_tracks(sp_token: str, tracks: list):\n",
    "    \n",
    "#     response_list = [item['response'] for item in tracks]\n",
    "    response_list = tracks\n",
    "    genres_complete = list()\n",
    "    artists_genres = list()\n",
    "    artist_ids = list()\n",
    "\n",
    "    for track in [x['track'] for x in response_list]:\n",
    "        for artist in track['artists']:\n",
    "            artist_ids.append(artist['id'])\n",
    "\n",
    "    try:\n",
    "        for i in range(0, len(set(artist_ids)), 50):\n",
    "            batch_artists = artist_ids[i:i+50]\n",
    "#             batch_artists = set(batch_artists)\n",
    "            sleep(1)\n",
    "            artists = sp_token.artists(batch_artists)\n",
    "            for artist in artists['artists']:\n",
    "                genres.append((artist['id'], artist['genres']))\n",
    "#                 print(f'{artist[\"name\"]}: {artist[\"genres\"]}')\n",
    "                genres_complete.extend(artist['genres'])\n",
    "            print(i)\n",
    "\n",
    "    except Exception as e:\n",
    "        print(f'ERROR FETCHING GENRES {e}') \n",
    "\n",
    "    return (genres, genres_complete)"
   ]
  },
  {
   "cell_type": "code",
   "execution_count": 8,
   "id": "3ac287d6",
   "metadata": {},
   "outputs": [],
   "source": [
    "# count the number of times an artist or track occurs across the time-ranges. it returns a dictionary of the track or artist name and the counts.\n",
    "def count_items(items: list, item_type: str):\n",
    "    ids = [x[item_type] for x in items]\n",
    "    for item in items:\n",
    "#         print(item[item_type])\n",
    "#         print(ids.count(item[item_type]))\n",
    "        item['counts'] = ids.count(item[item_type])\n",
    "    return items"
   ]
  },
  {
   "cell_type": "markdown",
   "id": "6f441cd8",
   "metadata": {},
   "source": [
    "### Saved tracks\n",
    "This is distinct from the top tracks and makes the tracks and artists lists more robust."
   ]
  },
  {
   "cell_type": "code",
   "execution_count": 11,
   "id": "afe1a3f0",
   "metadata": {},
   "outputs": [],
   "source": [
    "# define the saved track genre list\n",
    "\n",
    "saved_tracks = get_saved_tracks(sp)"
   ]
  },
  {
   "cell_type": "code",
   "execution_count": null,
   "id": "6fb9879b",
   "metadata": {},
   "outputs": [],
   "source": [
    "saved_track_dicts = []\n",
    "for track in saved_tracks:\n",
    "    saved_dicts.append({\n",
    "        'track_name': track['track']['name'],\n",
    "        'track_id': track['track']['id'],\n",
    "        'artist_names': [x['name'] for x in track['track']['artists']],\n",
    "        'artist_ids': [x['id'] for x in track['track']['artists']],\n",
    "        'artist_uris': [x['uri'] for x in track['track']['artists']],\n",
    "        'duration_ms': track['track']['duration_ms'],\n",
    "        'explicit': track['track']['explicit'],\n",
    "        'popularity': track['track']['popularity'],\n",
    "        'added_at': pd.to_datetime(track['added_at']),\n",
    "    })\n",
    "    \n",
    "pd.DataFrame(saved_dicts)"
   ]
  },
  {
   "cell_type": "markdown",
   "id": "b4f0c442",
   "metadata": {},
   "source": [
    "### Define artists lists"
   ]
  },
  {
   "cell_type": "code",
   "execution_count": null,
   "id": "933c2d8b",
   "metadata": {},
   "outputs": [],
   "source": [
    "# define top artists lists\n",
    "\n",
    "long_term_artists = user_top_artists(sp, 'long_term')\n",
    "medium_term_artists = user_top_artists(sp, 'medium_term')\n",
    "short_term_artists = user_top_artists(sp, 'short_term')\n",
    "\n",
    "all_top_artists = [x['artist'] for x in long_term_artists] + [x['artist'] for x in medium_term_artists] + [x['artist'] for x in short_term_artists]\n",
    "\n",
    "# long_artists_df = pd.DataFrame([x['artist'] for x in long_term_artists])\n",
    "# medium_artists_df = pd.DataFrame([x['artist'] for x in medium_term_artists])\n",
    "# short_artists_df = pd.DataFrame([x['artist'] for x in short_term_artists])"
   ]
  },
  {
   "cell_type": "code",
   "execution_count": null,
   "id": "23c73602",
   "metadata": {},
   "outputs": [],
   "source": [
    "# count of all artists across time-ranges\n",
    "top_artists_counts = count_items(all_top_artists, 'artist_uri')"
   ]
  },
  {
   "cell_type": "code",
   "execution_count": null,
   "id": "707179c1",
   "metadata": {},
   "outputs": [],
   "source": [
    "all_artists_count = count_items(saved)"
   ]
  },
  {
   "cell_type": "markdown",
   "id": "4e69f8a9",
   "metadata": {},
   "source": [
    "### Define tracks lists"
   ]
  },
  {
   "cell_type": "code",
   "execution_count": null,
   "id": "1239177d",
   "metadata": {},
   "outputs": [],
   "source": [
    "# define top tracks lists\n",
    "\n",
    "long_term_tracks = user_top_tracks(sp, 'long_term')\n",
    "medium_term_tracks = user_top_tracks(sp, 'medium_term')\n",
    "short_term_tracks = user_top_tracks(sp, 'short_term')\n",
    "\n",
    "all_top_tracks = [item['track'] for item in long_term_tracks] + [item['track'] for item in medium_term_tracks] + [item['track'] for item in short_term_tracks]"
   ]
  },
  {
   "cell_type": "code",
   "execution_count": null,
   "id": "7549248b",
   "metadata": {},
   "outputs": [],
   "source": [
    "all_top_tracks[0]"
   ]
  },
  {
   "cell_type": "code",
   "execution_count": null,
   "id": "b7b1bd94",
   "metadata": {},
   "outputs": [],
   "source": [
    "# counts of all tracks across time-ranges\n",
    "all_tracks_counts = count_items(all_top_tracks, 'track_name')\n",
    "all_tracks_counts"
   ]
  },
  {
   "cell_type": "code",
   "execution_count": null,
   "id": "e87a7dea",
   "metadata": {},
   "outputs": [],
   "source": [
    "pd.DataFrame(all_top_tracks)['artist_names'][0][0]"
   ]
  },
  {
   "cell_type": "markdown",
   "id": "82d7fa03",
   "metadata": {},
   "source": [
    "### Genre Counts"
   ]
  },
  {
   "cell_type": "code",
   "execution_count": null,
   "id": "369c8aa9",
   "metadata": {},
   "outputs": [],
   "source": [
    "# define the genre list from time ranges\n",
    "\n",
    "long_genres = get_genres_from_tracks(sp, long_term_tracks)\n",
    "medium_genres = get_genres_from_tracks(sp, medium_term_tracks)\n",
    "short_genres = get_genres_from_tracks(sp, short_term_tracks)"
   ]
  },
  {
   "cell_type": "code",
   "execution_count": null,
   "id": "1bd52d8f",
   "metadata": {},
   "outputs": [],
   "source": [
    "# define the top all-time genres\n",
    "long_series = pd.Series(data=long_genres)\n",
    "long_counts = long_series.value_counts()[:10]\n",
    "\n",
    "# define the top ten genres from the past 6 months\n",
    "medium_series = pd.Series(data=medium_genres)\n",
    "medium_counts = medium_series.value_counts()[:10]\n",
    "\n",
    "# define the top ten genres from the past 4 weeks\n",
    "short_series = pd.Series(data=short_genres)\n",
    "short_counts = short_series.value_counts()[:10]"
   ]
  },
  {
   "cell_type": "code",
   "execution_count": null,
   "id": "6493b1b2",
   "metadata": {
    "scrolled": true
   },
   "outputs": [],
   "source": [
    "# define the time-range dataframe for genres\n",
    "genre_count_df = pd.DataFrame({'all_time_genres': long_counts, '6month_genres': medium_counts, '4week_genres': short_counts})\n",
    "genre_count_df.fillna(0, inplace=True)\n",
    "genre_count_df = genre_count_df.astype(int, copy=True)"
   ]
  },
  {
   "cell_type": "code",
   "execution_count": null,
   "id": "8a3e5c0d",
   "metadata": {},
   "outputs": [],
   "source": [
    "# create a series and count\n",
    "all_genres_series = pd.Series(data=all_genres)\n",
    "all_genres_counts = all_genres_series.value_counts()[:25]\n",
    "all_genres_counts"
   ]
  },
  {
   "cell_type": "code",
   "execution_count": null,
   "id": "83f7dc4e",
   "metadata": {},
   "outputs": [],
   "source": [
    "# define the genre list from the saved tracks\n",
    "\n",
    "saved_track_genres = get_genres_from_tracks(sp, saved_tracks)"
   ]
  },
  {
   "cell_type": "code",
   "execution_count": null,
   "id": "2b44a008",
   "metadata": {},
   "outputs": [],
   "source": [
    "# combine all the genres\n",
    "all_genres = saved_track_genres + long_genres + medium_genres + short_genres\n",
    "len(all_genres)"
   ]
  },
  {
   "cell_type": "markdown",
   "id": "26cdf047",
   "metadata": {},
   "source": [
    "## Track Features\n",
    "Mapping out the track features of all the songs to create visualization of the average/median features for each time-frame.\n",
    "Including saved tracks.\n",
    "\n",
    "Break down the features based on the time frames and a combined features."
   ]
  },
  {
   "cell_type": "code",
   "execution_count": null,
   "id": "1f5df3ba",
   "metadata": {},
   "outputs": [],
   "source": [
    "# long_track_ids = [x['id'] for x in top_tracks['long']]\n",
    "# medium_track_ids = [x['id'] for x in top_tracks['medium']]\n",
    "# short_track_ids = [x['id'] for x in top_tracks['short']]\n",
    "\n",
    "def get_features(token, tracks):\n",
    "    key_removal = ['type', 'uri', 'track_href', 'analysis_url']\n",
    "    track_dir = list()\n",
    "    \n",
    "    for track in tracks:\n",
    "        track_dir.append({\n",
    "            'track_id': track['id'],\n",
    "            'name': track['name'],\n",
    "            'artist': track['name']\n",
    "        })\n",
    "        \n",
    "    tracks_df = pd.DataFrame(track_dir)\n",
    "    features = token.audio_features([x['track_id'] for x in track_dir])\n",
    "    features = [{key: value for key, value in d.items() if key not in key_removal} for d in features]\n",
    "    \n",
    "    audio_feature_mapping = {item['id']: item for item in features}\n",
    "    feature_cols = ['danceability', 'energy', 'key', 'loudness', 'mode', 'speechiness', 'instrumentalness','liveness',\n",
    "                   'valence', 'tempo', 'duration_ms', 'time_signature']\n",
    "    \n",
    "    for feature in feature_cols:\n",
    "        tracks_df[feature] = tracks_df['track_id'].map(lambda x: audio_feature_mapping[x][feature])\n",
    "        \n",
    "    return tracks_df"
   ]
  },
  {
   "cell_type": "code",
   "execution_count": null,
   "id": "289af44f",
   "metadata": {},
   "outputs": [],
   "source": [
    "tracks_df = get_features(sp, top_tracks['long'])\n",
    "tracks_df.head()"
   ]
  },
  {
   "cell_type": "code",
   "execution_count": null,
   "id": "f9e8e920",
   "metadata": {},
   "outputs": [],
   "source": [
    "tracks_df['danceability'].describe()"
   ]
  },
  {
   "cell_type": "code",
   "execution_count": null,
   "id": "caa77fae",
   "metadata": {},
   "outputs": [],
   "source": [
    "dance_mean = tracks_df['danceability'].mean()\n",
    "dance_std = tracks_df['danceability'].std()\n",
    "dance_zscore = (tracks_df['danceability'] - dance_mean) / dance_std\n",
    "\n",
    "print(dance_mean)\n",
    "print(dance_std)\n",
    "print(tracks_df['danceability'].min())\n",
    "print(tracks_df['danceability'].max())"
   ]
  },
  {
   "cell_type": "code",
   "execution_count": null,
   "id": "625d822f",
   "metadata": {},
   "outputs": [],
   "source": [
    "tracks_df.describe()"
   ]
  },
  {
   "cell_type": "code",
   "execution_count": null,
   "id": "2bd1eae4",
   "metadata": {},
   "outputs": [],
   "source": [
    "dist_df = tracks_df.drop(columns = ['track_id','name', 'artist']).describe()"
   ]
  },
  {
   "cell_type": "markdown",
   "id": "a06a861f",
   "metadata": {},
   "source": [
    "# User EDA\n",
    "This is where all of the user data will be combined into one DataFrame and be analyzed. I'll look at:\n",
    "- Distribution of genres and track features\n",
    "    - Grouped by time ranges\n",
    "- Counts of artists and tracks across all time ranges and saved tracks\n",
    "    - Top tracks and artists from All-time, 6 months, and 4 weeks\n",
    "- Top tracks from specific albums\n",
    "- Distribution of artist and track popularity\n",
    "    - Grouped by time range\n",
    "- Distribution of explicit tracks\n",
    "- Distribution of track duration"
   ]
  },
  {
   "cell_type": "code",
   "execution_count": null,
   "id": "0e9da7a0",
   "metadata": {},
   "outputs": [],
   "source": []
  },
  {
   "cell_type": "markdown",
   "id": "3f84a4c0",
   "metadata": {},
   "source": [
    "### Visualizations"
   ]
  },
  {
   "cell_type": "code",
   "execution_count": null,
   "id": "d4ab8fd8",
   "metadata": {},
   "outputs": [],
   "source": [
    "fig = px.bar(\n",
    "    df,\n",
    "    labels={\n",
    "        'index':'Genres', \n",
    "        'value':'Number of Tracks',\n",
    "        'variable':'Time Range',\n",
    "    },\n",
    "    title='Most Listened Genres',\n",
    ")\n",
    "# fig.update_layout(xaxis={'categoryorder': 'total descending'})\n",
    "fig.update_traces(name='All-time', selector={'name':'long_tracks'})\n",
    "fig.update_traces(name='Past 6 Months', selector={'name':'medium_tracks'})\n",
    "fig.update_traces(name='Past 4 Weeks', selector={'name':'short_tracks'})\n",
    "\n",
    "fig.show()"
   ]
  },
  {
   "cell_type": "markdown",
   "id": "aa96ee19",
   "metadata": {},
   "source": [
    "## Genre Features\n",
    "- Group song features based on genre and apply a heat map. Perform various analysis to find any correlations.\n",
    "- Compare the features of the individual track compared to the genre features.\n",
    "- Create the following functions:\n",
    "    - Collect features and return a list of dictionaries for those features\n",
    "    - Input the list of features and analyze them (cluster? median?) and return list of the new values"
   ]
  },
  {
   "cell_type": "code",
   "execution_count": null,
   "id": "593061ef",
   "metadata": {},
   "outputs": [],
   "source": []
  },
  {
   "cell_type": "markdown",
   "id": "68b462f9",
   "metadata": {},
   "source": [
    "# Create the model\n",
    "\n",
    "- Try clustering the track features and genre features.\n",
    "- Maybe make a simple neural net using weights from the custom TBD metric.\n",
    "    - Give weights to tracks, artists, and genres"
   ]
  },
  {
   "cell_type": "code",
   "execution_count": null,
   "id": "57861831",
   "metadata": {},
   "outputs": [],
   "source": []
  }
 ],
 "metadata": {
  "kernelspec": {
   "display_name": "Python 3 (ipykernel)",
   "language": "python",
   "name": "python3"
  },
  "language_info": {
   "codemirror_mode": {
    "name": "ipython",
    "version": 3
   },
   "file_extension": ".py",
   "mimetype": "text/x-python",
   "name": "python",
   "nbconvert_exporter": "python",
   "pygments_lexer": "ipython3",
   "version": "3.10.9"
  }
 },
 "nbformat": 4,
 "nbformat_minor": 5
}
