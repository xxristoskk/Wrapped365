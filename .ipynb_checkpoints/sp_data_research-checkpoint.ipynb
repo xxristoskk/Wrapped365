{
 "cells": [
  {
   "cell_type": "markdown",
   "id": "b812b5a5",
   "metadata": {},
   "source": [
    "# Researching User Spotify Data\n",
    "The purpose of this notebook is to explore the data and create the algorithms that will be used in the django views.\n",
    "\n",
    "### To-Do\n",
    "- ~Along with the top tracks, a user's saved/liked tracks should be analyzed.~\n",
    "\n",
    "- ~Liked tracks should be considered in the algo.~ When a top track matches with a saved track, it should carry more weight--create a metric for this -- idk how, just think about it in the future.\n",
    "    - 1+ for each time an a track/artist appears, divided by 100\n",
    "        - Also consider how many times a track shows up in their playlists; it should influence the weight metric. Consider this for artists as well to add more weight to the genres.\n",
    "        - Also consider their followed artists and playlists.\n",
    "\n",
    "- ~Modify the amount of top tracks. There needs to be a while loop that increases the offset by 50 (limit)--offset += limit. there needs to be a condition at the end of the loop that checks if 'next' is in the resopnse key. If the key is None, then that means there are no more artists/tracks, and the loop should break.~"
   ]
  },
  {
   "cell_type": "code",
   "execution_count": 1,
   "id": "251eb898",
   "metadata": {},
   "outputs": [],
   "source": [
    "import spotipy\n",
    "from spotipy.oauth2 import SpotifyOAuth\n",
    "import pandas as pd\n",
    "import plotly.express as px\n",
    "from time import sleep\n",
    "import json"
   ]
  },
  {
   "cell_type": "code",
   "execution_count": 2,
   "id": "3a19f1d8",
   "metadata": {},
   "outputs": [],
   "source": [
    "with open('config.json', 'r') as f:\n",
    "    config = json.load(f)"
   ]
  },
  {
   "cell_type": "code",
   "execution_count": 3,
   "id": "2362051c",
   "metadata": {
    "scrolled": true
   },
   "outputs": [],
   "source": [
    "sp = spotipy.Spotify(auth_manager=SpotifyOAuth(client_id=config['OAuth']['client_id'],\n",
    "                                               client_secret=config['OAuth']['client_secret'],\n",
    "                                               redirect_uri='http://localhost/',\n",
    "                                               scope='user-library-read user-read-playback-state user-read-currently-playing user-top-read'))"
   ]
  },
  {
   "cell_type": "markdown",
   "id": "76d2f389",
   "metadata": {},
   "source": [
    "## Spotify Functions"
   ]
  },
  {
   "cell_type": "code",
   "execution_count": 4,
   "id": "25d9f32f",
   "metadata": {},
   "outputs": [],
   "source": [
    "# find the user's top artists and return a dictionary that contains a custom artist dictionary and the raw response from the api.\n",
    "def user_top_artists(sp_token: str, time_range: str):\n",
    "    artists = []\n",
    "    response = sp_token.current_user_top_artists(time_range=time_range, limit=50)\n",
    "    \n",
    "    for item in response['items']:\n",
    "        artist = {\n",
    "            'artist_name': item['name'],\n",
    "            'artist_id': item['id'],\n",
    "            'artist_uri': item['uri'],\n",
    "            'generes': item['genres'],\n",
    "            'popularity': item['popularity']\n",
    "            \n",
    "        }\n",
    "        artists.append({\n",
    "            'artist': artist,\n",
    "            'response': item\n",
    "        })\n",
    "    return artists"
   ]
  },
  {
   "cell_type": "code",
   "execution_count": 5,
   "id": "660b3a6d",
   "metadata": {},
   "outputs": [],
   "source": [
    "# get the top tracks from a user\n",
    "def user_top_tracks(sp_token: str, time_range: str):\n",
    "    tracks = []\n",
    "    response = sp_token.current_user_top_tracks(time_range=time_range, limit=50)\n",
    "    \n",
    "    for item in response['items']:\n",
    "        track = {\n",
    "            'track_name': item['name'],\n",
    "            'track_id': item['id'],\n",
    "            'artist_names': [x['name'] for x in item['artists']],\n",
    "            'artist_ids': [x['id'] for x in item['artists']],\n",
    "            'artist_uris': [x['id'] for x in item['artists']],\n",
    "            'duration_ms': item['duration_ms'],\n",
    "            'explicit': item['explicit'],\n",
    "            'popularity': item['popularity']\n",
    "        }\n",
    "        tracks.append({\n",
    "            'track': track,\n",
    "            'response': item\n",
    "        })\n",
    "        \n",
    "    return tracks"
   ]
  },
  {
   "cell_type": "code",
   "execution_count": 6,
   "id": "c7808f4c",
   "metadata": {},
   "outputs": [],
   "source": [
    "# get a user's saved tracks -- limited to 550 tracks\n",
    "# the limit is due to the amount of time it takes to get the saved tracks without reaching the API rate limit\n",
    "# the rate limit could be extended if the app was in production and approved by spotify\n",
    "\n",
    "def get_saved_tracks(sp_token: str):\n",
    "    offset = 0\n",
    "    limit = 50\n",
    "    response = sp_token.current_user_saved_tracks(limit=limit, offset=offset)\n",
    "    tracks = response['items']\n",
    "\n",
    "    for i in range(0, 10):\n",
    "        sleep(1)\n",
    "        offset += limit\n",
    "        \n",
    "        if response['next'] != None or i < 10:\n",
    "            response = sp_token.current_user_saved_tracks(limit=limit, offset=offset)\n",
    "            tracks.extend(response['items'])\n",
    "            i += 1\n",
    "        else:\n",
    "            return tracks\n",
    "        \n",
    "    return tracks"
   ]
  },
  {
   "cell_type": "code",
   "execution_count": 7,
   "id": "6fe1edf4",
   "metadata": {},
   "outputs": [],
   "source": [
    "# get the genres from a list of tracks\n",
    "# its ok for duplicate genres because we want those duplicates to hold more weight when analyzing them\n",
    "\n",
    "# there needs to be a way to handle artists that don't have genres listed\n",
    "\n",
    "def get_genres_from_tracks(sp_token: str, tracks: list):\n",
    "    \n",
    "#     response_list = [item['response'] for item in tracks]\n",
    "    response_list = tracks\n",
    "    genres_complete = []\n",
    "    artists_genres = []\n",
    "    artist_ids = []\n",
    "\n",
    "    for track in [x['track'] for x in response_list]:\n",
    "        for artist in track['artists']:\n",
    "            artist_ids.append(artist['id'])\n",
    "\n",
    "    try:\n",
    "        for i in range(0, len(set(artist_ids)), 50):\n",
    "            batch_artists = artist_ids[i:i+50]\n",
    "            sleep(1)\n",
    "            artists = sp_token.artists(batch_artists)\n",
    "            for artist in artists['artists']:\n",
    "                genres.append((artist['id'], artist['genres']))\n",
    "                genres_complete.extend(artist['genres'])\n",
    "\n",
    "    except Exception as e:\n",
    "        print(f'ERROR FETCHING GENRES {e}') \n",
    "\n",
    "    return (genres, genres_complete)"
   ]
  },
  {
   "cell_type": "code",
   "execution_count": 9,
   "id": "193ad809",
   "metadata": {},
   "outputs": [],
   "source": [
    "# def get_artists_from_tracks(sp_token: str, tracks: list):\n",
    "#     artist_ids = []\n",
    "#     artists = []\n",
    "    \n",
    "#     for i in range(0, len(tracks), )\n",
    "    "
   ]
  },
  {
   "cell_type": "code",
   "execution_count": 10,
   "id": "3ac287d6",
   "metadata": {},
   "outputs": [],
   "source": [
    "# count the number of times an artist or track occurs across the time-ranges. it returns a dictionary of the track or artist name and the counts.\n",
    "def count_items(items: list, item_type: str):\n",
    "    ids = [x[item_type] for x in items]\n",
    "    for item in items:\n",
    "#         print(item[item_type])\n",
    "#         print(ids.count(item[item_type]))\n",
    "        item['counts'] = ids.count(item[item_type])\n",
    "    return items"
   ]
  },
  {
   "cell_type": "markdown",
   "id": "6f441cd8",
   "metadata": {},
   "source": [
    "### Saved tracks\n",
    "This is distinct from the top tracks and makes the tracks and artists lists more robust."
   ]
  },
  {
   "cell_type": "code",
   "execution_count": 11,
   "id": "afe1a3f0",
   "metadata": {},
   "outputs": [],
   "source": [
    "# define the saved track genre list\n",
    "\n",
    "saved_tracks = get_saved_tracks(sp)"
   ]
  },
  {
   "cell_type": "code",
   "execution_count": 12,
   "id": "6fb9879b",
   "metadata": {},
   "outputs": [
    {
     "data": {
      "text/html": [
       "<div>\n",
       "<style scoped>\n",
       "    .dataframe tbody tr th:only-of-type {\n",
       "        vertical-align: middle;\n",
       "    }\n",
       "\n",
       "    .dataframe tbody tr th {\n",
       "        vertical-align: top;\n",
       "    }\n",
       "\n",
       "    .dataframe thead th {\n",
       "        text-align: right;\n",
       "    }\n",
       "</style>\n",
       "<table border=\"1\" class=\"dataframe\">\n",
       "  <thead>\n",
       "    <tr style=\"text-align: right;\">\n",
       "      <th></th>\n",
       "      <th>track_name</th>\n",
       "      <th>track_id</th>\n",
       "      <th>artist_names</th>\n",
       "      <th>artist_ids</th>\n",
       "      <th>artist_uris</th>\n",
       "      <th>duration_ms</th>\n",
       "      <th>explicit</th>\n",
       "      <th>popularity</th>\n",
       "      <th>added_at</th>\n",
       "    </tr>\n",
       "  </thead>\n",
       "  <tbody>\n",
       "    <tr>\n",
       "      <th>0</th>\n",
       "      <td>Whacko Jacko Steals The Elephant Man's Bones</td>\n",
       "      <td>69xFp8tGO0yEYbhzaXs3Nh</td>\n",
       "      <td>[The Fall of Troy]</td>\n",
       "      <td>[5fuQrhMRYMtoO9uOlFad4P]</td>\n",
       "      <td>[spotify:artist:5fuQrhMRYMtoO9uOlFad4P]</td>\n",
       "      <td>291586</td>\n",
       "      <td>False</td>\n",
       "      <td>22</td>\n",
       "      <td>2024-02-13 00:58:24+00:00</td>\n",
       "    </tr>\n",
       "    <tr>\n",
       "      <th>1</th>\n",
       "      <td>The Circus That Has brought Us Back To These N...</td>\n",
       "      <td>0fbHJ5ed7WDfc7buiDpy33</td>\n",
       "      <td>[The Fall of Troy]</td>\n",
       "      <td>[5fuQrhMRYMtoO9uOlFad4P]</td>\n",
       "      <td>[spotify:artist:5fuQrhMRYMtoO9uOlFad4P]</td>\n",
       "      <td>188986</td>\n",
       "      <td>False</td>\n",
       "      <td>26</td>\n",
       "      <td>2024-02-13 00:47:30+00:00</td>\n",
       "    </tr>\n",
       "    <tr>\n",
       "      <th>2</th>\n",
       "      <td>From Finish to Starting Line</td>\n",
       "      <td>7cso45ExQPfQn9lYyXV9Ci</td>\n",
       "      <td>[Counterfit]</td>\n",
       "      <td>[27w31c5ZkBHHXMlqRGYkJ1]</td>\n",
       "      <td>[spotify:artist:27w31c5ZkBHHXMlqRGYkJ1]</td>\n",
       "      <td>234693</td>\n",
       "      <td>False</td>\n",
       "      <td>15</td>\n",
       "      <td>2024-02-11 01:08:42+00:00</td>\n",
       "    </tr>\n",
       "    <tr>\n",
       "      <th>3</th>\n",
       "      <td>A Piece Of Mind</td>\n",
       "      <td>4FhWqSmp6ROi6QVTgO1oJQ</td>\n",
       "      <td>[Finch]</td>\n",
       "      <td>[528t5c0zyuG9beehtth4Za]</td>\n",
       "      <td>[spotify:artist:528t5c0zyuG9beehtth4Za]</td>\n",
       "      <td>185386</td>\n",
       "      <td>False</td>\n",
       "      <td>33</td>\n",
       "      <td>2024-02-11 00:38:08+00:00</td>\n",
       "    </tr>\n",
       "    <tr>\n",
       "      <th>4</th>\n",
       "      <td>Birds</td>\n",
       "      <td>0sXZN04qF8n2Zjgtj3x4r2</td>\n",
       "      <td>[Bodysync, Ryan Hemsworth, Giraffage]</td>\n",
       "      <td>[34KMxwDAHIvM7Kwt1PcClb, 2CgysNw5B7rFNRtRjQbPZ...</td>\n",
       "      <td>[spotify:artist:34KMxwDAHIvM7Kwt1PcClb, spotif...</td>\n",
       "      <td>209076</td>\n",
       "      <td>False</td>\n",
       "      <td>34</td>\n",
       "      <td>2024-02-10 20:02:04+00:00</td>\n",
       "    </tr>\n",
       "  </tbody>\n",
       "</table>\n",
       "</div>"
      ],
      "text/plain": [
       "                                          track_name                track_id  \\\n",
       "0       Whacko Jacko Steals The Elephant Man's Bones  69xFp8tGO0yEYbhzaXs3Nh   \n",
       "1  The Circus That Has brought Us Back To These N...  0fbHJ5ed7WDfc7buiDpy33   \n",
       "2                       From Finish to Starting Line  7cso45ExQPfQn9lYyXV9Ci   \n",
       "3                                    A Piece Of Mind  4FhWqSmp6ROi6QVTgO1oJQ   \n",
       "4                                              Birds  0sXZN04qF8n2Zjgtj3x4r2   \n",
       "\n",
       "                            artist_names  \\\n",
       "0                     [The Fall of Troy]   \n",
       "1                     [The Fall of Troy]   \n",
       "2                           [Counterfit]   \n",
       "3                                [Finch]   \n",
       "4  [Bodysync, Ryan Hemsworth, Giraffage]   \n",
       "\n",
       "                                          artist_ids  \\\n",
       "0                           [5fuQrhMRYMtoO9uOlFad4P]   \n",
       "1                           [5fuQrhMRYMtoO9uOlFad4P]   \n",
       "2                           [27w31c5ZkBHHXMlqRGYkJ1]   \n",
       "3                           [528t5c0zyuG9beehtth4Za]   \n",
       "4  [34KMxwDAHIvM7Kwt1PcClb, 2CgysNw5B7rFNRtRjQbPZ...   \n",
       "\n",
       "                                         artist_uris  duration_ms  explicit  \\\n",
       "0            [spotify:artist:5fuQrhMRYMtoO9uOlFad4P]       291586     False   \n",
       "1            [spotify:artist:5fuQrhMRYMtoO9uOlFad4P]       188986     False   \n",
       "2            [spotify:artist:27w31c5ZkBHHXMlqRGYkJ1]       234693     False   \n",
       "3            [spotify:artist:528t5c0zyuG9beehtth4Za]       185386     False   \n",
       "4  [spotify:artist:34KMxwDAHIvM7Kwt1PcClb, spotif...       209076     False   \n",
       "\n",
       "   popularity                  added_at  \n",
       "0          22 2024-02-13 00:58:24+00:00  \n",
       "1          26 2024-02-13 00:47:30+00:00  \n",
       "2          15 2024-02-11 01:08:42+00:00  \n",
       "3          33 2024-02-11 00:38:08+00:00  \n",
       "4          34 2024-02-10 20:02:04+00:00  "
      ]
     },
     "execution_count": 12,
     "metadata": {},
     "output_type": "execute_result"
    }
   ],
   "source": [
    "saved_track_dicts = []\n",
    "for track in saved_tracks:\n",
    "    saved_track_dicts.append({\n",
    "        'track_name': track['track']['name'],\n",
    "        'track_id': track['track']['id'],\n",
    "        'artist_names': [x['name'] for x in track['track']['artists']],\n",
    "        'artist_ids': [x['id'] for x in track['track']['artists']],\n",
    "        'artist_uris': [x['uri'] for x in track['track']['artists']],\n",
    "        'duration_ms': track['track']['duration_ms'],\n",
    "        'explicit': track['track']['explicit'],\n",
    "        'popularity': track['track']['popularity'],\n",
    "        'added_at': pd.to_datetime(track['added_at']),\n",
    "    })\n",
    "    \n",
    "pd.DataFrame(saved_track_dicts).head()"
   ]
  },
  {
   "cell_type": "markdown",
   "id": "b4f0c442",
   "metadata": {},
   "source": [
    "### Define artists lists"
   ]
  },
  {
   "cell_type": "code",
   "execution_count": 13,
   "id": "933c2d8b",
   "metadata": {},
   "outputs": [],
   "source": [
    "# define top artists lists by time-range\n",
    "\n",
    "long_term_artists = user_top_artists(sp, 'long_term')\n",
    "medium_term_artists = user_top_artists(sp, 'medium_term')\n",
    "short_term_artists = user_top_artists(sp, 'short_term')\n",
    "\n",
    "all_top_artists = [x['artist'] for x in long_term_artists] + [x['artist'] for x in medium_term_artists] + [x['artist'] for x in short_term_artists]\n",
    "\n",
    "# long_artists_df = pd.DataFrame([x['artist'] for x in long_term_artists])\n",
    "# medium_artists_df = pd.DataFrame([x['artist'] for x in medium_term_artists])\n",
    "# short_artists_df = pd.DataFrame([x['artist'] for x in short_term_artists])"
   ]
  },
  {
   "cell_type": "code",
   "execution_count": 14,
   "id": "23c73602",
   "metadata": {},
   "outputs": [],
   "source": [
    "# count of all artists across time-ranges\n",
    "top_artists_counts = count_items(all_top_artists, 'artist_id')"
   ]
  },
  {
   "cell_type": "code",
   "execution_count": 15,
   "id": "646cbfc7",
   "metadata": {},
   "outputs": [],
   "source": [
    "existing_artists = []\n",
    "all_artists_distinct = []\n",
    "for artist in top_artists_counts:\n",
    "    if artist['artist_id'] not in existing_artists:\n",
    "        existing_artists.append(artist['artist_id'])\n",
    "        all_artists_distinct.append(artist)\n",
    "    else:\n",
    "        continue"
   ]
  },
  {
   "cell_type": "code",
   "execution_count": 18,
   "id": "bd82d219",
   "metadata": {},
   "outputs": [
    {
     "data": {
      "text/plain": [
       "{'track_name': \"Whacko Jacko Steals The Elephant Man's Bones\",\n",
       " 'track_id': '69xFp8tGO0yEYbhzaXs3Nh',\n",
       " 'artist_names': ['The Fall of Troy'],\n",
       " 'artist_ids': ['5fuQrhMRYMtoO9uOlFad4P'],\n",
       " 'artist_uris': ['spotify:artist:5fuQrhMRYMtoO9uOlFad4P'],\n",
       " 'duration_ms': 291586,\n",
       " 'explicit': False,\n",
       " 'popularity': 22,\n",
       " 'added_at': Timestamp('2024-02-13 00:58:24+0000', tz='UTC')}"
      ]
     },
     "execution_count": 18,
     "metadata": {},
     "output_type": "execute_result"
    }
   ],
   "source": [
    "saved_track_dicts[0]"
   ]
  },
  {
   "cell_type": "code",
   "execution_count": 21,
   "id": "076870c8",
   "metadata": {
    "scrolled": true
   },
   "outputs": [],
   "source": [
    "### get all the artists from the saved tracks, count them, and add them to the all_artists_distinct list\n",
    "saved_artists = []\n",
    "for track in saved_track_dicts:\n",
    "    artists = [x for x in track['artist_ids']]\n",
    "    for artist in artists:\n",
    "        if artist not in existing_artists:\n",
    "            saved_artists.append({\n",
    "                'artist_id': artist,\n",
    "                'count': 1\n",
    "            })\n",
    "        else:\n",
    "            for d in all_artists_distinct:\n",
    "                if d['artist_id'] == artist:\n",
    "                    d['counts'] += 1\n",
    "                    break"
   ]
  },
  {
   "cell_type": "code",
   "execution_count": 22,
   "id": "fd7fbc75",
   "metadata": {},
   "outputs": [
    {
     "data": {
      "text/plain": [
       "537"
      ]
     },
     "execution_count": 22,
     "metadata": {},
     "output_type": "execute_result"
    }
   ],
   "source": [
    "# this could probably be included in a function above\n",
    "saved_artists_ids = [x['artist_id'] for x in saved_artists]\n",
    "for i in range(0, len(saved_artists_ids), 50):\n",
    "    batch_artists = saved_artists_ids[i:i+50]\n",
    "    "
   ]
  },
  {
   "cell_type": "markdown",
   "id": "4e69f8a9",
   "metadata": {},
   "source": [
    "### Define tracks lists"
   ]
  },
  {
   "cell_type": "code",
   "execution_count": null,
   "id": "1239177d",
   "metadata": {},
   "outputs": [],
   "source": [
    "# define top tracks lists\n",
    "\n",
    "long_term_tracks = user_top_tracks(sp, 'long_term')\n",
    "medium_term_tracks = user_top_tracks(sp, 'medium_term')\n",
    "short_term_tracks = user_top_tracks(sp, 'short_term')\n",
    "\n",
    "all_top_tracks = [item['track'] for item in long_term_tracks] + [item['track'] for item in medium_term_tracks] + [item['track'] for item in short_term_tracks]"
   ]
  },
  {
   "cell_type": "code",
   "execution_count": null,
   "id": "12f23e59",
   "metadata": {},
   "outputs": [],
   "source": [
    "all_top_tracks[0]"
   ]
  },
  {
   "cell_type": "code",
   "execution_count": null,
   "id": "b7b1bd94",
   "metadata": {},
   "outputs": [],
   "source": [
    "# counts of all tracks across time-ranges\n",
    "all_tracks_counts = count_items(all_top_tracks, 'track_name')\n",
    "all_tracks_counts"
   ]
  },
  {
   "cell_type": "code",
   "execution_count": null,
   "id": "e87a7dea",
   "metadata": {},
   "outputs": [],
   "source": [
    "pd.DataFrame(all_top_tracks)['artist_names'][0][0]"
   ]
  },
  {
   "cell_type": "markdown",
   "id": "82d7fa03",
   "metadata": {},
   "source": [
    "### Genre Counts"
   ]
  },
  {
   "cell_type": "code",
   "execution_count": null,
   "id": "369c8aa9",
   "metadata": {},
   "outputs": [],
   "source": [
    "# define the genre list from time ranges\n",
    "\n",
    "long_genres = get_genres_from_tracks(sp, long_term_tracks)\n",
    "medium_genres = get_genres_from_tracks(sp, medium_term_tracks)\n",
    "short_genres = get_genres_from_tracks(sp, short_term_tracks)"
   ]
  },
  {
   "cell_type": "code",
   "execution_count": null,
   "id": "1bd52d8f",
   "metadata": {},
   "outputs": [],
   "source": [
    "# define the top all-time genres\n",
    "long_series = pd.Series(data=long_genres)\n",
    "long_counts = long_series.value_counts()[:10]\n",
    "\n",
    "# define the top ten genres from the past 6 months\n",
    "medium_series = pd.Series(data=medium_genres)\n",
    "medium_counts = medium_series.value_counts()[:10]\n",
    "\n",
    "# define the top ten genres from the past 4 weeks\n",
    "short_series = pd.Series(data=short_genres)\n",
    "short_counts = short_series.value_counts()[:10]"
   ]
  },
  {
   "cell_type": "code",
   "execution_count": null,
   "id": "6493b1b2",
   "metadata": {
    "scrolled": true
   },
   "outputs": [],
   "source": [
    "# define the time-range dataframe for genres\n",
    "genre_count_df = pd.DataFrame({'all_time_genres': long_counts, '6month_genres': medium_counts, '4week_genres': short_counts})\n",
    "genre_count_df.fillna(0, inplace=True)\n",
    "genre_count_df = genre_count_df.astype(int, copy=True)"
   ]
  },
  {
   "cell_type": "code",
   "execution_count": null,
   "id": "8a3e5c0d",
   "metadata": {},
   "outputs": [],
   "source": [
    "# create a series and count\n",
    "all_genres_series = pd.Series(data=all_genres)\n",
    "all_genres_counts = all_genres_series.value_counts()[:25]\n",
    "all_genres_counts"
   ]
  },
  {
   "cell_type": "code",
   "execution_count": null,
   "id": "83f7dc4e",
   "metadata": {},
   "outputs": [],
   "source": [
    "# define the genre list from the saved tracks\n",
    "\n",
    "saved_track_genres = get_genres_from_tracks(sp, saved_tracks)"
   ]
  },
  {
   "cell_type": "code",
   "execution_count": null,
   "id": "2b44a008",
   "metadata": {},
   "outputs": [],
   "source": [
    "# combine all the genres\n",
    "all_genres = saved_track_genres + long_genres + medium_genres + short_genres\n",
    "len(all_genres)"
   ]
  },
  {
   "cell_type": "markdown",
   "id": "26cdf047",
   "metadata": {},
   "source": [
    "## Track Features\n",
    "Mapping out the track features of all the songs to create visualization of the average/median features for each time-frame.\n",
    "Including saved tracks.\n",
    "\n",
    "Break down the features based on the time frames and a combined features."
   ]
  },
  {
   "cell_type": "code",
   "execution_count": null,
   "id": "1f5df3ba",
   "metadata": {},
   "outputs": [],
   "source": [
    "# long_track_ids = [x['id'] for x in top_tracks['long']]\n",
    "# medium_track_ids = [x['id'] for x in top_tracks['medium']]\n",
    "# short_track_ids = [x['id'] for x in top_tracks['short']]\n",
    "\n",
    "def get_features(token, tracks):\n",
    "    key_removal = ['type', 'uri', 'track_href', 'analysis_url']\n",
    "    track_dir = list()\n",
    "    \n",
    "    for track in tracks:\n",
    "        track_dir.append({\n",
    "            'track_id': track['id'],\n",
    "            'name': track['name'],\n",
    "            'artist': track['name']\n",
    "        })\n",
    "        \n",
    "    tracks_df = pd.DataFrame(track_dir)\n",
    "    features = token.audio_features([x['track_id'] for x in track_dir])\n",
    "    features = [{key: value for key, value in d.items() if key not in key_removal} for d in features]\n",
    "    \n",
    "    audio_feature_mapping = {item['id']: item for item in features}\n",
    "    feature_cols = ['danceability', 'energy', 'key', 'loudness', 'mode', 'speechiness', 'instrumentalness','liveness',\n",
    "                   'valence', 'tempo', 'duration_ms', 'time_signature']\n",
    "    \n",
    "    for feature in feature_cols:\n",
    "        tracks_df[feature] = tracks_df['track_id'].map(lambda x: audio_feature_mapping[x][feature])\n",
    "        \n",
    "    return tracks_df"
   ]
  },
  {
   "cell_type": "code",
   "execution_count": null,
   "id": "289af44f",
   "metadata": {},
   "outputs": [],
   "source": [
    "tracks_df = get_features(sp, top_tracks['long'])\n",
    "tracks_df.head()"
   ]
  },
  {
   "cell_type": "code",
   "execution_count": null,
   "id": "f9e8e920",
   "metadata": {},
   "outputs": [],
   "source": [
    "tracks_df['danceability'].describe()"
   ]
  },
  {
   "cell_type": "code",
   "execution_count": null,
   "id": "caa77fae",
   "metadata": {},
   "outputs": [],
   "source": [
    "dance_mean = tracks_df['danceability'].mean()\n",
    "dance_std = tracks_df['danceability'].std()\n",
    "dance_zscore = (tracks_df['danceability'] - dance_mean) / dance_std\n",
    "\n",
    "print(dance_mean)\n",
    "print(dance_std)\n",
    "print(tracks_df['danceability'].min())\n",
    "print(tracks_df['danceability'].max())"
   ]
  },
  {
   "cell_type": "code",
   "execution_count": null,
   "id": "625d822f",
   "metadata": {},
   "outputs": [],
   "source": [
    "tracks_df.describe()"
   ]
  },
  {
   "cell_type": "code",
   "execution_count": null,
   "id": "2bd1eae4",
   "metadata": {},
   "outputs": [],
   "source": [
    "dist_df = tracks_df.drop(columns = ['track_id','name', 'artist']).describe()"
   ]
  },
  {
   "cell_type": "markdown",
   "id": "170cc6a7",
   "metadata": {},
   "source": [
    "# User EDA\n",
    "This is where all of the user data will be combined into one DataFrame and be analyzed. I'll look at:\n",
    "- Distribution of genres and track features\n",
    "    - Grouped by time ranges\n",
    "- Counts of artists and tracks across all time ranges and saved tracks\n",
    "    - Top tracks and artists from All-time, 6 months, and 4 weeks\n",
    "- Top tracks from specific albums\n",
    "- Distribution of artist and track popularity\n",
    "    - Grouped by time range\n",
    "- Distribution of explicit tracks\n",
    "- Distribution of track duration"
   ]
  },
  {
   "cell_type": "code",
   "execution_count": null,
   "id": "a66ff9ba",
   "metadata": {},
   "outputs": [],
   "source": []
  },
  {
   "cell_type": "markdown",
   "id": "7c370e90",
   "metadata": {},
   "source": [
    "### Visualizations"
   ]
  },
  {
   "cell_type": "code",
   "execution_count": null,
   "id": "d4ab8fd8",
   "metadata": {},
   "outputs": [],
   "source": [
    "fig = px.bar(\n",
    "    df,\n",
    "    labels={\n",
    "        'index':'Genres', \n",
    "        'value':'Number of Tracks',\n",
    "        'variable':'Time Range',\n",
    "    },\n",
    "    title='Most Listened Genres',\n",
    ")\n",
    "# fig.update_layout(xaxis={'categoryorder': 'total descending'})\n",
    "fig.update_traces(name='All-time', selector={'name':'long_tracks'})\n",
    "fig.update_traces(name='Past 6 Months', selector={'name':'medium_tracks'})\n",
    "fig.update_traces(name='Past 4 Weeks', selector={'name':'short_tracks'})\n",
    "\n",
    "fig.show()"
   ]
  },
  {
   "cell_type": "markdown",
   "id": "aa96ee19",
   "metadata": {},
   "source": [
    "## Genre Features\n",
    "- Group song features based on genre and apply a heat map. Perform various analysis to find any correlations.\n",
    "- Compare the features of the individual track compared to the genre features.\n",
    "- Create the following functions:\n",
    "    - Collect features and return a list of dictionaries for those features\n",
    "    - Input the list of features and analyze them (cluster? median?) and return list of the new values"
   ]
  },
  {
   "cell_type": "code",
   "execution_count": null,
   "id": "ead53fa7",
   "metadata": {},
   "outputs": [],
   "source": []
  },
  {
   "cell_type": "markdown",
   "id": "68b462f9",
   "metadata": {},
   "source": [
    "# Create the model\n",
    "\n",
    "- Try clustering the track features and genre features.\n",
    "- Maybe make a simple neural net using weights from the custom TBD metric.\n",
    "    - Give weights to tracks, artists, and genres"
   ]
  },
  {
   "cell_type": "code",
   "execution_count": null,
   "id": "57861831",
   "metadata": {},
   "outputs": [],
   "source": []
  }
 ],
 "metadata": {
  "kernelspec": {
   "display_name": "Python 3 (ipykernel)",
   "language": "python",
   "name": "python3"
  },
  "language_info": {
   "codemirror_mode": {
    "name": "ipython",
    "version": 3
   },
   "file_extension": ".py",
   "mimetype": "text/x-python",
   "name": "python",
   "nbconvert_exporter": "python",
   "pygments_lexer": "ipython3",
   "version": "3.10.9"
  }
 },
 "nbformat": 4,
 "nbformat_minor": 5
}
